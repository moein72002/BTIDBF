{
 "cells": [
  {
   "cell_type": "code",
   "execution_count": 1,
   "metadata": {},
   "outputs": [],
   "source": [
    "import os\n",
    "os.environ[\"CUDA_VISIBLE_DEVICES\"] = \"1\""
   ]
  },
  {
   "cell_type": "code",
   "execution_count": 2,
   "metadata": {},
   "outputs": [
    {
     "name": "stdout",
     "output_type": "stream",
     "text": [
      "['cifar10_convnext_tiny_badnet_0_01', 'cifar10_convnext_tiny_badnet_0_1', 'cifar10_convnext_tiny_blended_0_1', 'cifar10_convnext_tiny_blind_0_1', 'cifar10_convnext_tiny_bpp_0_1', 'cifar10_convnext_tiny_inputaware_0_1', 'cifar10_convnext_tiny_lc_0_1', 'cifar10_convnext_tiny_lf_0_1', 'cifar10_convnext_tiny_lira_0_1', 'cifar10_convnext_tiny_sig_0_1', 'cifar10_convnext_tiny_ssba_0_1', 'cifar10_convnext_tiny_trojannn_0_1', 'cifar10_convnext_tiny_wanet_0_1', 'cifar10_preactresnet18_badnet_0_1', 'cifar10_preactresnet18_blended_0_1', 'cifar10_preactresnet18_bpp_0_1', 'cifar10_preactresnet18_inputaware_0_1', 'cifar10_preactresnet18_lc_0_1', 'cifar10_preactresnet18_lf_0_1', 'cifar10_preactresnet18_lira_0_1', 'cifar10_preactresnet18_sig_0_1', 'cifar10_preactresnet18_ssba_0_1', 'cifar10_preactresnet18_trojannn_0_1', 'cifar10_preactresnet18_wanet_0_1', 'cifar10_vgg19_bn_blended_0_1', 'cifar10_vgg19_bn_blind_0_1', 'cifar10_vgg19_bn_bpp_0_1']\n"
     ]
    }
   ],
   "source": [
    "import os\n",
    "\n",
    "output_file = \"./btidbf_backdoored_models_part4_detection_result\"\n",
    "\n",
    "base_path = \"/home/hossein/.cache/kagglehub/datasets/hosseinmirzaeisa/backdoor-bench0/versions/1/\"\n",
    "\n",
    "files = os.listdir(base_path)\n",
    "\n",
    "# Define the custom order for dataset_namees\n",
    "dataset_name_order = {\"cifar10\": 0, \"gtsrb\": 1, \"cifar100\": 2, \"tiny\": 3}\n",
    "\n",
    "def sort_key(filename):\n",
    "    # Check each prefix in the desired order\n",
    "    for dataset_name, rank in dataset_name_order.items():\n",
    "        if filename.split(\"_\")[0] == (dataset_name):\n",
    "            return rank, filename  # sort by rank, then alphabetically\n",
    "    # Files without any of these dataset_namees come after, sorted alphabetically\n",
    "    return len(dataset_name_order), filename\n",
    "\n",
    "sorted_files = sorted(files, key=sort_key)\n",
    "\n",
    "print(sorted_files)"
   ]
  },
  {
   "cell_type": "code",
   "execution_count": null,
   "metadata": {},
   "outputs": [
    {
     "name": "stdout",
     "output_type": "stream",
     "text": [
      "model_name: cifar10_preactresnet18_badnet_0_1, model: preactresnet18, dataset: cifar10\n"
     ]
    },
    {
     "name": "stdout",
     "output_type": "stream",
     "text": [
      "Namespace(attack='backdoored', attack_type='all2one', batch_size=128, dataset='cifar10', device='cuda:0', earlystop=False, feat_bound=3, filename='/home/hossein/.cache/kagglehub/datasets/hosseinmirzaeisa/backdoor-bench0/versions/1/cifar10_preactresnet18_badnet_0_1/attack_result.pt', gen_lr=0.001, model='preactresnet18', model_name='cifar10_preactresnet18_badnet_0_1', mround=20, norm_bound=0.3, nround=5, num_classes=10, output_file='', preround=50, pur_norm_bound=0.05, pur_round=30, root='/mnt/data/hossein/Hossein_workspace/vision_trust_worthy/downloaded_data/moein/BTIDBF', size=32, tlabel=5, ul_round=30, uround=30)\n",
      "Files already downloaded and verified\n",
      "Files already downloaded and verified\n",
      "Pretrain Generator:   0%|                                | 0/79 [00:00<?, ?it/s]/home/hossein/.local/lib/python3.8/site-packages/torch/nn/modules/module.py:1518: UserWarning: Implicit dimension choice for softmax has been deprecated. Change the call to include dim=X as an argument.\n",
      "  return self._call_impl(*args, **kwargs)\n",
      "Pretrain Generator:  57%|▌| 45/79 [00:03<00:02, 12.78it/s, epoch=0, loss=50.1769"
     ]
    }
   ],
   "source": [
    "# base_path = \"/home/hossein/.cache/kagglehub/datasets/hosseinmirzaeisa/backdoor-bench0/versions/1/\"\n",
    "# model_name = \"cifar10_preactresnet18_sig_0_1\"\n",
    "# filename = os.path.join(base_path, model_name, \"attack_result.pt\")\n",
    "\n",
    "def get_size_by_dataset(dataset_name):\n",
    "    size = None\n",
    "    if dataset_name in [\"cifar10\", \"cifar100\", \"gtsrb\"]:\n",
    "        size = 32\n",
    "    elif dataset_name == \"tiny\":\n",
    "        size = 64\n",
    "    return size\n",
    "\n",
    "\n",
    "for model_name in sorted_files:\n",
    "    # model_name = \"cifar10_preactresnet18\"\n",
    "    model_arch = model_name.split(\"_\")[1]\n",
    "    if model_arch != \"preactresnet18\":\n",
    "        continue\n",
    "\n",
    "    filename = os.path.join(base_path, model_name, \"attack_result.pt\")\n",
    "\n",
    "    \n",
    "\n",
    "    dataset = model_name.split(\"_\")[0]\n",
    "    tlabel = 5\n",
    "    attack = \"backdoored\"\n",
    "    device = \"cuda:0\"\n",
    "    size = get_size_by_dataset(dataset)\n",
    "    batch_size = 128\n",
    "    attack_type = \"all2one\"\n",
    "\n",
    "    print(f\"model_name: {model_name}, model: {model_arch}, dataset: {dataset}\")\n",
    "\n",
    "    # !python pretrain.py --filename $filename --dataset $dataset --tlabel $tlabel --model $model_arch --attack $attack --device $device --size $size --batch_size $batch_size --attack_type $attack_type\n",
    "    !python pretrain.py --filename $filename --model_name $model_name --dataset $dataset --tlabel $tlabel --model $model_arch --attack $attack --device $device --size $size --batch_size $batch_size --attack_type $attack_type\n",
    "\n",
    "    mround = 20\n",
    "    uround = 30\n",
    "    norm_bound = 0.3\n",
    "\n",
    "    !python btidbf.py --filename $filename --model_name $model_name --dataset $dataset --tlabel $tlabel --model $model_arch --attack $attack --device $device --size $size --batch_size $batch_size --attack_type $attack_type --mround $mround --uround $uround --norm_bound $norm_bound"
   ]
  }
 ],
 "metadata": {
  "kernelspec": {
   "display_name": "Python 3",
   "language": "python",
   "name": "python3"
  },
  "language_info": {
   "codemirror_mode": {
    "name": "ipython",
    "version": 3
   },
   "file_extension": ".py",
   "mimetype": "text/x-python",
   "name": "python",
   "nbconvert_exporter": "python",
   "pygments_lexer": "ipython3",
   "version": "3.8.10"
  }
 },
 "nbformat": 4,
 "nbformat_minor": 2
}
