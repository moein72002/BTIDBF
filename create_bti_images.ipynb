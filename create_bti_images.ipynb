{
 "cells": [
  {
   "cell_type": "code",
   "execution_count": 1,
   "metadata": {},
   "outputs": [],
   "source": [
    "import os\n",
    "os.environ[\"CUDA_VISIBLE_DEVICES\"] = \"1\""
   ]
  },
  {
   "cell_type": "code",
   "execution_count": null,
   "metadata": {},
   "outputs": [
    {
     "name": "stdout",
     "output_type": "stream",
     "text": [
      "model_name: tiny_preactresnet18_badnet_0_1, model: preactresnet18, dataset: tiny\n"
     ]
    },
    {
     "name": "stdout",
     "output_type": "stream",
     "text": [
      "Namespace(attack='badnet', attack_type='all2one', batch_size=128, dataset='tiny', device='cuda:0', earlystop=False, feat_bound=3, filename='/home/hossein/.cache/kagglehub/datasets/hosseinmirzaeisa/backdoor-bench0/versions/1/tiny_preactresnet18_badnet_0_1/attack_result.pt', gen_lr=0.001, model='preactresnet18', model_name='tiny_preactresnet18_badnet_0_1', mround=20, norm_bound=0.3, nround=5, num_classes=10, output_file='', preround=50, pur_norm_bound=0.05, pur_round=30, root='/mnt/data/hossein/Hossein_workspace/vision_trust_worthy/downloaded_data/moein/BTIDBF', size=224, tlabel=5, ul_round=30, uround=30)\n",
      "Traceback (most recent call last):\n",
      "  File \"pretrain.py\", line 15, in <module>\n",
      "    _, _, classifier = box.get_state_dict()\n",
      "  File \"/mnt/data/hossein/Hossein_workspace/vision_trust_worthy/downloaded_data/moein/BTIDBF/loader.py\", line 147, in get_state_dict\n",
      "    state_dict = torch.load(filename, map_location=torch.device('cpu'))\n",
      "  File \"/home/hossein/.local/lib/python3.8/site-packages/torch/serialization.py\", line 986, in load\n",
      "    with _open_file_like(f, 'rb') as opened_file:\n",
      "  File \"/home/hossein/.local/lib/python3.8/site-packages/torch/serialization.py\", line 435, in _open_file_like\n",
      "    return _open_file(name_or_buffer, mode)\n",
      "  File \"/home/hossein/.local/lib/python3.8/site-packages/torch/serialization.py\", line 416, in __init__\n",
      "    super().__init__(open(name, mode))\n",
      "FileNotFoundError: [Errno 2] No such file or directory: '/home/hossein/.cache/kagglehub/datasets/hosseinmirzaeisa/backdoor-bench0/versions/1/tiny_preactresnet18_badnet_0_1/attack_result.pt'\n"
     ]
    }
   ],
   "source": [
    "# base_path = \"/home/hossein/.cache/kagglehub/datasets/hosseinmirzaeisa/backdoor-bench0/versions/1/\"\n",
    "# model_name = \"cifar10_preactresnet18_sig_0_1\"\n",
    "# filename = os.path.join(base_path, model_name, \"attack_result.pt\")\n",
    "\n",
    "def get_size_by_dataset(dataset_name):\n",
    "    size = None\n",
    "    if dataset_name in [\"cifar10\", \"cifar100\", \"gtsrb\"]:\n",
    "        size = 32\n",
    "    elif dataset_name == \"tiny\":\n",
    "        size = 64 # 64\n",
    "    return size\n",
    "\n",
    "\n",
    "import os\n",
    "\n",
    "output_file = \"./btidbf_backdoored_models_part4_detection_result\"\n",
    "\n",
    "base_path = \"/home/hossein/.cache/kagglehub/datasets/hosseinmirzaeisa/backdoor-bench0/versions/1/\"\n",
    "\n",
    "model_name = \"tiny_preactresnet18_badnet_0_1\"\n",
    "\n",
    "# model_name = \"cifar10_preactresnet18\"\n",
    "model_arch = model_name.split(\"_\")[1]\n",
    "\n",
    "filename = os.path.join(base_path, model_name, \"attack_result.pt\")\n",
    "\n",
    "dataset = model_name.split(\"_\")[0]\n",
    "tlabel = 5\n",
    "attack = \"badnet\"\n",
    "device = \"cuda:0\"\n",
    "size = get_size_by_dataset(dataset)\n",
    "batch_size = 128\n",
    "attack_type = \"all2one\"\n",
    "\n",
    "print(f\"model_name: {model_name}, model: {model_arch}, dataset: {dataset}\")\n",
    "\n",
    "# !python pretrain.py --filename $filename --dataset $dataset --tlabel $tlabel --model $model_arch --attack $attack --device $device --size $size --batch_size $batch_size --attack_type $attack_type\n",
    "!python pretrain.py --filename $filename --model_name $model_name --dataset $dataset --tlabel $tlabel --model $model_arch --attack $attack --device $device --size $size --batch_size $batch_size --attack_type $attack_type\n",
    "\n",
    "mround = 20\n",
    "uround = 30\n",
    "norm_bound = 0.3"
   ]
  },
  {
   "cell_type": "code",
   "execution_count": null,
   "metadata": {},
   "outputs": [],
   "source": [
    "!python btidbf.py --filename $filename --model_name $model_name --dataset $dataset --tlabel $tlabel --model $model_arch --attack $attack --device $device --size $size --batch_size $batch_size --attack_type $attack_type --mround $mround --uround $uround --norm_bound $norm_bound"
   ]
  }
 ],
 "metadata": {
  "kernelspec": {
   "display_name": "Python 3",
   "language": "python",
   "name": "python3"
  },
  "language_info": {
   "codemirror_mode": {
    "name": "ipython",
    "version": 3
   },
   "file_extension": ".py",
   "mimetype": "text/x-python",
   "name": "python",
   "nbconvert_exporter": "python",
   "pygments_lexer": "ipython3",
   "version": "3.8.10"
  }
 },
 "nbformat": 4,
 "nbformat_minor": 2
}
