{
 "cells": [
  {
   "cell_type": "code",
   "execution_count": 1,
   "metadata": {},
   "outputs": [
    {
     "name": "stdout",
     "output_type": "stream",
     "text": [
      "Warning: Looks like you're using an outdated `kagglehub` version, please consider updating (latest version: 0.3.10)\n",
      "Warning: Looks like you're using an outdated `kagglehub` version, please consider updating (latest version: 0.3.10)\n",
      "Path1 to dataset files: /home/hossein/.cache/kagglehub/datasets/hosseinmirzaeisa/backdoor-bench0/versions/1\n",
      "Path2 to dataset files: /home/hossein/.cache/kagglehub/datasets/hosseinmirzaeisa/backdoorbench1/versions/1\n"
     ]
    }
   ],
   "source": [
    "import kagglehub\n",
    "\n",
    "# Download latest version\n",
    "path1 = kagglehub.dataset_download(\"hosseinmirzaeisa/backdoor-bench0\")\n",
    "path2 = kagglehub.dataset_download(\"hosseinmirzaeisa/backdoorbench1\")\n",
    "\n",
    "print(\"Path1 to dataset files:\", path1)\n",
    "print(\"Path2 to dataset files:\", path2)"
   ]
  },
  {
   "cell_type": "code",
   "execution_count": null,
   "metadata": {},
   "outputs": [],
   "source": [
    "filename = \"/home/hossein/.cache/kagglehub/datasets/hosseinmirzaeisa/backdoor-bench0/versions/1/cifar10_convnext_tiny_ssba_0_1\"\n",
    "\n",
    "\n",
    "\n",
    "!python pretrain.py --dataset cifar --tlabel 5 --model resnet18 --attack wanet --device cuda:0 --size 32 --batch_size 128 --attack_type all2one"
   ]
  },
  {
   "cell_type": "code",
   "execution_count": 17,
   "metadata": {},
   "outputs": [
    {
     "data": {
      "text/plain": [
       "torch.Size([3, 224, 224])"
      ]
     },
     "execution_count": 17,
     "metadata": {},
     "output_type": "execute_result"
    }
   ],
   "source": [
    "import random\n",
    "import torchvision.transforms as transforms\n",
    "\n",
    "transform = transforms.Compose([\n",
    "    transforms.Resize((224, 224)),  # Resize to (224, 224)\n",
    "    transforms.ToTensor(),  # Convert to Tensor\n",
    "])\n",
    "\n",
    "\n",
    "from datasets.Tiny_Imagenet import TinyImageNet\n",
    "ds = TinyImageNet(\"/mnt/data/hossein/Hossein_workspace/vision_trust_worthy/downloaded_data/moein/Downloads/tiny_imagenet_dataset/\",\n",
    "                                                    split='val',\n",
    "                                                    download=True, transform=transform\n",
    "                                                    )\n",
    "\n",
    "# Determine sample size: 1% of the test set (ensuring at least one sample)\n",
    "sample_size = max(1, int(0.01 * len(ds)))\n",
    "\n",
    "# Randomly select indices from the test dataset\n",
    "sample_indices = random.sample(range(len(ds)), sample_size)\n",
    "\n",
    "images = []\n",
    "labels = []\n",
    "\n",
    "for idx in sample_indices:\n",
    "    # Each item is a tuple: (PIL.Image, label)\n",
    "    pil_img, label = ds[idx]\n",
    "    images.append(pil_img)\n",
    "    labels.append(label)\n",
    "\n",
    "images[0].shape"
   ]
  }
 ],
 "metadata": {
  "kernelspec": {
   "display_name": "Python 3",
   "language": "python",
   "name": "python3"
  },
  "language_info": {
   "codemirror_mode": {
    "name": "ipython",
    "version": 3
   },
   "file_extension": ".py",
   "mimetype": "text/x-python",
   "name": "python",
   "nbconvert_exporter": "python",
   "pygments_lexer": "ipython3",
   "version": "3.8.10"
  }
 },
 "nbformat": 4,
 "nbformat_minor": 2
}
