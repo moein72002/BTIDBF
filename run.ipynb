{
 "cells": [
  {
   "cell_type": "code",
   "execution_count": 1,
   "metadata": {},
   "outputs": [
    {
     "name": "stdout",
     "output_type": "stream",
     "text": [
      "Warning: Looks like you're using an outdated `kagglehub` version, please consider updating (latest version: 0.3.10)\n",
      "Warning: Looks like you're using an outdated `kagglehub` version, please consider updating (latest version: 0.3.10)\n",
      "Path1 to dataset files: /home/hossein/.cache/kagglehub/datasets/hosseinmirzaeisa/backdoor-bench0/versions/1\n",
      "Path2 to dataset files: /home/hossein/.cache/kagglehub/datasets/hosseinmirzaeisa/backdoorbench1/versions/1\n"
     ]
    }
   ],
   "source": [
    "import kagglehub\n",
    "\n",
    "# Download latest version\n",
    "path1 = kagglehub.dataset_download(\"hosseinmirzaeisa/backdoor-bench0\")\n",
    "path2 = kagglehub.dataset_download(\"hosseinmirzaeisa/backdoorbench1\")\n",
    "\n",
    "print(\"Path1 to dataset files:\", path1)\n",
    "print(\"Path2 to dataset files:\", path2)"
   ]
  },
  {
   "cell_type": "code",
   "execution_count": 11,
   "metadata": {},
   "outputs": [
    {
     "name": "stdout",
     "output_type": "stream",
     "text": [
      "/home/hossein/.cache/kagglehub/datasets/hosseinmirzaeisa/backdoor-bench0/versions/1/cifar10_convnext_tiny_ssba_0_1/attack_result.pt\n",
      "Downloading https://www.cs.toronto.edu/~kriz/cifar-10-python.tar.gz to ./data/cifar-10-python.tar.gz\n",
      "100%|███████████████████████| 170498071/170498071 [00:09<00:00, 17573292.80it/s]\n",
      "Extracting ./data/cifar-10-python.tar.gz to ./data\n",
      "Files already downloaded and verified\n",
      "Pretrain Generator:   0%|                                | 0/79 [00:00<?, ?it/s]\n",
      "Traceback (most recent call last):\n",
      "  File \"pretrain.py\", line 37, in <module>\n",
      "    cln_feat = classifier.from_input_to_features(cln_img)\n",
      "  File \"/home/hossein/.local/lib/python3.8/site-packages/torch/nn/modules/module.py\", line 1695, in __getattr__\n",
      "    raise AttributeError(f\"'{type(self).__name__}' object has no attribute '{name}'\")\n",
      "AttributeError: 'ConvNeXt' object has no attribute 'from_input_to_features'\n"
     ]
    }
   ],
   "source": [
    "import os\n",
    "base_path = \"/home/hossein/.cache/kagglehub/datasets/hosseinmirzaeisa/backdoor-bench0/versions/1/\"\n",
    "model_name = \"cifar10_convnext_tiny_ssba_0_1\"\n",
    "\n",
    "filename = os.path.join(base_path, model_name, \"attack_result.pt\")\n",
    "print(filename)\n",
    "\n",
    "dataset = model_name.split(\"_\")[0]\n",
    "tlabel = 5\n",
    "model_arch = model_name.split(\"_\")[1]\n",
    "attack = \"wanet\"\n",
    "device = \"cuda:0\"\n",
    "size = 32\n",
    "batch_size = 128\n",
    "attack_type = \"all2one\"\n",
    "\n",
    "# !python pretrain.py --filename $filename --dataset $dataset --tlabel $tlabel --model $model_arch --attack $attack --device $device --size $size --batch_size $batch_size --attack_type $attack_type\n",
    "!python pretrain.py --filename $filename --dataset $dataset --tlabel $tlabel --model $model_arch --attack $attack --device $device --size $size --batch_size $batch_size --attack_type $attack_type"
   ]
  }
 ],
 "metadata": {
  "kernelspec": {
   "display_name": "Python 3",
   "language": "python",
   "name": "python3"
  },
  "language_info": {
   "codemirror_mode": {
    "name": "ipython",
    "version": 3
   },
   "file_extension": ".py",
   "mimetype": "text/x-python",
   "name": "python",
   "nbconvert_exporter": "python",
   "pygments_lexer": "ipython3",
   "version": "3.8.10"
  }
 },
 "nbformat": 4,
 "nbformat_minor": 2
}
